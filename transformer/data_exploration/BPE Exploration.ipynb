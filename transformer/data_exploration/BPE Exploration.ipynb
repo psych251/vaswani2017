{
 "cells": [
  {
   "cell_type": "markdown",
   "metadata": {},
   "source": [
    "## BPE Exploration\n",
    "This is a notebook to explore the byte-pair encoding tools in the huggingface transformers package. The exploration is performed on the WMT english to german dataset."
   ]
  },
  {
   "cell_type": "code",
   "execution_count": 1,
   "metadata": {},
   "outputs": [],
   "source": [
    "import torch\n",
    "import numpy as np\n",
    "from tokenizers import CharBPETokenizer\n",
    "import os"
   ]
  },
  {
   "cell_type": "code",
   "execution_count": 2,
   "metadata": {},
   "outputs": [],
   "source": [
    "data_path = \"/data2/pdplab/grantsrb/wmt_data/en-de_2014/\"\n",
    "eng_file = os.path.join(data_path, \"train.en\")\n",
    "ger_file = os.path.join(data_path, \"train.de\")"
   ]
  },
  {
   "cell_type": "code",
   "execution_count": 3,
   "metadata": {},
   "outputs": [
    {
     "name": "stdout",
     "output_type": "stream",
     "text": [
      "iron cement is a ready for use paste which is laid as a fillet by putty knife or finger in the mould edges ( corners ) of the steel ingot mould .\n",
      "\n",
      "iron cement protects the ingot against the hot , abrasive steel casting process .\n",
      "\n",
      "a fire restant repair cement for fire places , ovens , open fireplaces etc .\n",
      "\n",
      "Construction and repair of highways and ...\n",
      "\n",
      "An announcement must be commercial character .\n",
      "\n",
      "Goods and services advancement through the P.O.Box system is NOT ALLOWED .\n",
      "\n",
      "Deliveries ( spam ) and other improper information deleted .\n",
      "\n"
     ]
    }
   ],
   "source": [
    "with open(eng_file,'r') as f:\n",
    "    eng_lines = []\n",
    "    for i,l in enumerate(f.readlines()):\n",
    "        print(l)\n",
    "        eng_lines.append(l)\n",
    "        if i > 5: break"
   ]
  },
  {
   "cell_type": "code",
   "execution_count": 4,
   "metadata": {},
   "outputs": [
    {
     "name": "stdout",
     "output_type": "stream",
     "text": [
      "iron cement ist eine gebrauchs ##AT##-##AT## fertige Paste , die mit einem Spachtel oder den Fingern als Hohlkehle in die Formecken ( Winkel ) der Stahlguss -Kokille aufgetragen wird .\n",
      "\n",
      "Nach der Aushärtung schützt iron cement die Kokille gegen den heissen , abrasiven Stahlguss .\n",
      "\n",
      "feuerfester Reparaturkitt für Feuerungsanlagen , Öfen , offene Feuerstellen etc.\n",
      "\n",
      "Der Bau und die Reparatur der Autostraßen ...\n",
      "\n",
      "die Mitteilungen sollen den geschäftlichen kommerziellen Charakter tragen .\n",
      "\n",
      "der Vertrieb Ihrer Waren und Dienstleistungen durch das Postfach ##AT##-##AT## System WIRD NICHT ZUGELASSEN .\n",
      "\n",
      "die Werbeversande ( Spam ) und andere unkorrekte Informationen werden gelöscht .\n",
      "\n"
     ]
    }
   ],
   "source": [
    "with open(ger_file,'r') as f:\n",
    "    for i,l in enumerate(f.readlines()):\n",
    "        print(l)\n",
    "        if i > 5: break"
   ]
  },
  {
   "cell_type": "code",
   "execution_count": 5,
   "metadata": {},
   "outputs": [],
   "source": [
    "tok = CharBPETokenizer()"
   ]
  },
  {
   "cell_type": "code",
   "execution_count": 6,
   "metadata": {},
   "outputs": [
    {
     "data": {
      "text/plain": [
       "Tokenizer(vocabulary_size=0, model=BPE, unk_token=<unk>, suffix=</w>, dropout=None, lowercase=False, unicode_normalizer=None, bert_normalizer=True, split_on_whitespace_only=False)"
      ]
     },
     "execution_count": 6,
     "metadata": {},
     "output_type": "execute_result"
    }
   ],
   "source": [
    "tok"
   ]
  },
  {
   "cell_type": "code",
   "execution_count": 7,
   "metadata": {},
   "outputs": [
    {
     "data": {
      "text/plain": [
       "1"
      ]
     },
     "execution_count": 7,
     "metadata": {},
     "output_type": "execute_result"
    }
   ],
   "source": [
    "tok.train([eng_file], vocab_size=50000)"
   ]
  },
  {
   "cell_type": "code",
   "execution_count": 18,
   "metadata": {},
   "outputs": [
    {
     "data": {
      "text/plain": [
       "1"
      ]
     },
     "execution_count": 18,
     "metadata": {},
     "output_type": "execute_result"
    }
   ],
   "source": [
    "tok.add_special_tokens([\"<MASK>\"])\n",
    "tok.add_tokens([\"<START>\"])"
   ]
  },
  {
   "cell_type": "code",
   "execution_count": 19,
   "metadata": {},
   "outputs": [
    {
     "name": "stdout",
     "output_type": "stream",
     "text": [
      "50000\n",
      "50001\n"
     ]
    }
   ],
   "source": [
    "print(tok.token_to_id(\"<MASK>\"))\n",
    "print(tok.token_to_id(\"<START>\"))"
   ]
  },
  {
   "cell_type": "code",
   "execution_count": 11,
   "metadata": {},
   "outputs": [
    {
     "data": {
      "text/plain": [
       "Tokenizer(vocabulary_size=50001, model=BPE, unk_token=<unk>, suffix=</w>, dropout=None, lowercase=False, unicode_normalizer=None, bert_normalizer=True, split_on_whitespace_only=False)"
      ]
     },
     "execution_count": 11,
     "metadata": {},
     "output_type": "execute_result"
    }
   ],
   "source": [
    "tok"
   ]
  },
  {
   "cell_type": "code",
   "execution_count": 20,
   "metadata": {},
   "outputs": [
    {
     "data": {
      "text/plain": [
       "['./vocab.json', './merges.txt']"
      ]
     },
     "execution_count": 20,
     "metadata": {},
     "output_type": "execute_result"
    }
   ],
   "source": [
    "tok.save_model(\"./\")"
   ]
  },
  {
   "cell_type": "code",
   "execution_count": 21,
   "metadata": {},
   "outputs": [],
   "source": [
    "tok = tok.from_file(\"vocab.json\", \"merges.txt\")"
   ]
  },
  {
   "cell_type": "code",
   "execution_count": 22,
   "metadata": {},
   "outputs": [
    {
     "name": "stdout",
     "output_type": "stream",
     "text": [
      "None\n",
      "None\n"
     ]
    }
   ],
   "source": [
    "print(tok.token_to_id(\"<MASK>\"))\n",
    "print(tok.token_to_id(\"<START>\"))"
   ]
  },
  {
   "cell_type": "code",
   "execution_count": 24,
   "metadata": {},
   "outputs": [
    {
     "data": {
      "text/plain": [
       "1"
      ]
     },
     "execution_count": 24,
     "metadata": {},
     "output_type": "execute_result"
    }
   ],
   "source": [
    "tok.add_special_tokens([\"<MASK>\"])\n",
    "tok.add_special_tokens([\"<START>\"])"
   ]
  },
  {
   "cell_type": "code",
   "execution_count": 8,
   "metadata": {},
   "outputs": [
    {
     "name": "stdout",
     "output_type": "stream",
     "text": [
      "encoding: iron cement is a ready for use paste which is laid as a fillet by putty knife or finger in the mould edges ( corners ) of the steel ingot mould .\n",
      "\n"
     ]
    }
   ],
   "source": [
    "print(\"encoding:\", eng_lines[0])\n",
    "output = tok.encode(eng_lines[0])"
   ]
  },
  {
   "cell_type": "code",
   "execution_count": 9,
   "metadata": {},
   "outputs": [
    {
     "name": "stdout",
     "output_type": "stream",
     "text": [
      "Ids:\n",
      "[10474, 6633, 1930, 1004, 2665, 1964, 2138, 19231, 2049, 1930, 6761, 1951, 1004, 3024, 3616, 2026, 2204, 8657, 22671, 1941, 15404, 1931, 1912, 22741, 16685, 1902, 16550, 1278, 1922, 1912, 7173, 2135, 2090, 22741, 1558]\n",
      "Tokens:\n",
      "['iron</w>', 'cement</w>', 'is</w>', 'a</w>', 'ready</w>', 'for</w>', 'use</w>', 'paste</w>', 'which</w>', 'is</w>', 'laid</w>', 'as</w>', 'a</w>', 'fil', 'let</w>', 'by</w>', 'pu', 'tty</w>', 'knife</w>', 'or</w>', 'finger</w>', 'in</w>', 'the</w>', 'mould</w>', 'edges</w>', '(</w>', 'corners</w>', ')</w>', 'of</w>', 'the</w>', 'steel</w>', 'ing', 'ot</w>', 'mould</w>', '.</w>']\n"
     ]
    }
   ],
   "source": [
    "print(\"Ids:\")\n",
    "print(output.ids)\n",
    "print(\"Tokens:\")\n",
    "print(output.tokens)"
   ]
  },
  {
   "cell_type": "code",
   "execution_count": 57,
   "metadata": {},
   "outputs": [
    {
     "data": {
      "text/plain": [
       "'iron cement is a ready for use paste which is laid as a fillet by putty knife or finger in the mould edges ( corners ) of the steel ingot mould .'"
      ]
     },
     "execution_count": 57,
     "metadata": {},
     "output_type": "execute_result"
    }
   ],
   "source": [
    "tok.decode(output.ids)"
   ]
  },
  {
   "cell_type": "code",
   "execution_count": 69,
   "metadata": {},
   "outputs": [
    {
     "name": "stdout",
     "output_type": "stream",
     "text": [
      "['__class__', '__delattr__', '__dict__', '__dir__', '__doc__', '__eq__', '__format__', '__ge__', '__getattribute__', '__gt__', '__hash__', '__init__', '__init_subclass__', '__le__', '__lt__', '__module__', '__ne__', '__new__', '__reduce__', '__reduce_ex__', '__repr__', '__setattr__', '__sizeof__', '__str__', '__subclasshook__', '__weakref__', '_parameters', '_tokenizer', 'add_special_tokens', 'add_tokens', 'decode', 'decode_batch', 'enable_padding', 'enable_truncation', 'encode', 'encode_batch', 'from_file', 'get_vocab', 'get_vocab_size', 'id_to_token', 'no_padding', 'no_truncation', 'normalize', 'num_special_tokens_to_add', 'padding', 'post_process', 'save', 'save_model', 'to_str', 'token_to_id', 'train', 'truncation']\n"
     ]
    }
   ],
   "source": [
    "print(dir(tok))"
   ]
  },
  {
   "cell_type": "code",
   "execution_count": 25,
   "metadata": {},
   "outputs": [
    {
     "data": {
      "text/plain": [
       "50002"
      ]
     },
     "execution_count": 25,
     "metadata": {},
     "output_type": "execute_result"
    }
   ],
   "source": [
    "tok.get_vocab_size()"
   ]
  },
  {
   "cell_type": "code",
   "execution_count": 61,
   "metadata": {},
   "outputs": [
    {
     "data": {
      "text/plain": [
       "1"
      ]
     },
     "execution_count": 61,
     "metadata": {},
     "output_type": "execute_result"
    }
   ],
   "source": [
    "tok.add_special_tokens([\"<MASK>\"])"
   ]
  },
  {
   "cell_type": "code",
   "execution_count": 62,
   "metadata": {},
   "outputs": [
    {
     "data": {
      "text/plain": [
       "50000"
      ]
     },
     "execution_count": 62,
     "metadata": {},
     "output_type": "execute_result"
    }
   ],
   "source": [
    "tok.token_to_id(\"<MASK>\")"
   ]
  },
  {
   "cell_type": "code",
   "execution_count": 65,
   "metadata": {},
   "outputs": [],
   "source": [
    "eng_lines[0] += \"<MASK> <MASK> <MASK>\""
   ]
  },
  {
   "cell_type": "code",
   "execution_count": 67,
   "metadata": {},
   "outputs": [],
   "source": [
    "output = tok.encode(eng_lines[0])"
   ]
  },
  {
   "cell_type": "code",
   "execution_count": 70,
   "metadata": {},
   "outputs": [
    {
     "name": "stdout",
     "output_type": "stream",
     "text": [
      "[10471, 6630, 1927, 1001, 2662, 1961, 2135, 19228, 2046, 1927, 6758, 1948, 1001, 3021, 3613, 2023, 2201, 8654, 22668, 1938, 15401, 1928, 1909, 22738, 16682, 1694, 16547, 1833, 1919, 1909, 7170, 2132, 2087, 22738, 1428, 50000, 50000, 50000]\n"
     ]
    }
   ],
   "source": [
    "print(output.ids)"
   ]
  },
  {
   "cell_type": "code",
   "execution_count": 74,
   "metadata": {},
   "outputs": [
    {
     "data": {
      "text/plain": [
       "''"
      ]
     },
     "execution_count": 74,
     "metadata": {},
     "output_type": "execute_result"
    }
   ],
   "source": [
    "ids = [50000, 50000, 50000]\n",
    "tok.decode(ids)"
   ]
  },
  {
   "cell_type": "code",
   "execution_count": null,
   "metadata": {},
   "outputs": [],
   "source": [
    "tok."
   ]
  },
  {
   "cell_type": "markdown",
   "metadata": {},
   "source": [
    "## Vocab Exploration"
   ]
  },
  {
   "cell_type": "code",
   "execution_count": 33,
   "metadata": {},
   "outputs": [],
   "source": [
    "eng_vocab = os.path.join(data_path, \"vocab.50K.en\")"
   ]
  },
  {
   "cell_type": "code",
   "execution_count": 35,
   "metadata": {},
   "outputs": [
    {
     "name": "stdout",
     "output_type": "stream",
     "text": [
      "<unk>\n",
      "\n",
      "<s>\n",
      "\n",
      "</s>\n",
      "\n",
      "the\n",
      "\n",
      ",\n",
      "\n",
      ".\n",
      "\n",
      "of\n",
      "\n",
      "and\n",
      "\n",
      "to\n",
      "\n",
      "in\n",
      "\n",
      "a\n",
      "\n",
      "is\n",
      "\n"
     ]
    }
   ],
   "source": [
    "with open(eng_vocab,'r') as f:\n",
    "    for i,l in enumerate(f.readlines()):\n",
    "        print(l)\n",
    "        if i > 10: break"
   ]
  },
  {
   "cell_type": "code",
   "execution_count": null,
   "metadata": {},
   "outputs": [],
   "source": []
  }
 ],
 "metadata": {
  "kernelspec": {
   "display_name": "Python 3",
   "language": "python",
   "name": "python3"
  },
  "language_info": {
   "codemirror_mode": {
    "name": "ipython",
    "version": 3
   },
   "file_extension": ".py",
   "mimetype": "text/x-python",
   "name": "python",
   "nbconvert_exporter": "python",
   "pygments_lexer": "ipython3",
   "version": "3.8.3"
  }
 },
 "nbformat": 4,
 "nbformat_minor": 4
}
